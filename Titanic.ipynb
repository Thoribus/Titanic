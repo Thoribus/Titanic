{
 "cells": [
  {
   "cell_type": "code",
   "execution_count": 214,
   "id": "ae5a496c-e92c-473e-b9a4-9a9afe937ed7",
   "metadata": {},
   "outputs": [],
   "source": [
    "import pandas as pd\n",
    "from sklearn.model_selection import train_test_split\n",
    "from sklearn.model_selection import cross_val_score\n",
    "from sklearn.metrics import classification_report\n",
    "from sklearn.metrics import accuracy_score\n",
    "from sklearn.linear_model import LogisticRegression\n",
    "from sklearn.model_selection import GridSearchCV\n",
    "import xgboost as xgb\n"
   ]
  },
  {
   "cell_type": "code",
   "execution_count": 176,
   "id": "dbce0ec2-78fd-4c3f-9e77-bb2cf0f61a9a",
   "metadata": {},
   "outputs": [],
   "source": [
    "train = pd.read_csv(\"Data/train.csv\")\n",
    "test = pd.read_csv(\"Data/test.csv\")"
   ]
  },
  {
   "cell_type": "code",
   "execution_count": 186,
   "id": "03556822",
   "metadata": {},
   "outputs": [],
   "source": [
    "def extract_title_and_family_name(df, name_column='Name'):\n",
    "    # Function to extract the title from the name\n",
    "    def extract_title(name):\n",
    "        # Titles are typically followed by a period, like \"Mr.\", \"Mrs.\", \"Miss.\"\n",
    "        return name.split(',')[1].split('.')[0].strip()\n",
    "\n",
    "    # Function to extract the family name\n",
    "    def extract_family_name(name):\n",
    "        # Family name is usually the first part of the name before the comma\n",
    "        return name.split(',')[0].strip()\n",
    "\n",
    "    # Apply the functions to the DataFrame\n",
    "    df['Title'] = df[name_column].apply(extract_title)\n",
    "    df['Family Name'] = df[name_column].apply(extract_family_name)\n",
    "    df['Family Name group size'] = df.groupby('Family Name')['Family Name'].transform('count')\n",
    "\n",
    "    \n",
    "    df['Royal_Male_Title'] = df['Title'].apply(lambda x: 1 if x in ['Don', 'Sir', 'Jonkheer'] else 0)\n",
    "    df['Royal_Female_Title'] = df['Title'].apply(lambda x: 1 if x in ['Dona', 'the Countess', 'Lady'] else 0)\n",
    "    df['Crew_Title'] = df['Title'].apply(lambda x: 1 if x in ['Capt', 'Col', 'Major'] else 0)\n",
    "    df['Professional_Title'] = df['Title'].apply(lambda x: 1 if x in ['Dr', 'Rev'] else 0)\n",
    "    df['Master_Title'] = df['Title'].apply(lambda x: 1 if x == 'Master' else 0)\n",
    "    df['Miss_Title'] = df['Title'].apply(lambda x: 1 if x in ['Miss', 'Mlle', 'Mme', 'Ms'] else 0)\n",
    "    df['Mr_Title'] = df['Title'].apply(lambda x: 1 if x == 'Mr' else 0)\n",
    "    df['Mrs_Title'] = df['Title'].apply(lambda x: 1 if x in ['Mrs'] else 0)\n",
    "\n",
    "    return df.drop([name_column,'Family Name'], axis=1)\n"
   ]
  },
  {
   "cell_type": "code",
   "execution_count": 155,
   "id": "fdc3d9c4",
   "metadata": {},
   "outputs": [],
   "source": [
    "def extract_deck(df, deck_column = 'Cabin'):\n",
    "    # Function to extract the deck from the cabin number\n",
    "    def extract_deck(cabin):\n",
    "        return cabin[0] if pd.notnull(cabin) else 'Unknown'\n",
    "\n",
    "    # Apply the function to the DataFrame\n",
    "    df['Deck'] = df[deck_column].apply(extract_deck)\n",
    "\n",
    "    \n",
    "    return df.drop(deck_column, axis=1)"
   ]
  },
  {
   "cell_type": "code",
   "execution_count": 156,
   "id": "53294b62",
   "metadata": {},
   "outputs": [],
   "source": [
    "def extract_family_size_and_alone(df):\n",
    "    # Function to extract the family size\n",
    "    df['Family Size'] = df['SibSp'] + df['Parch'] + 1\n",
    "\n",
    "    # Function to determine if the passenger is alone\n",
    "    df['Alone'] = (df['Family Size'] == 1).astype(int)\n",
    "\n",
    "    return df"
   ]
  },
  {
   "cell_type": "code",
   "execution_count": 157,
   "id": "731460e2",
   "metadata": {},
   "outputs": [],
   "source": [
    "def ticket_group_size(df, ticket_column = 'Ticket'):\n",
    "    # Function to extract the ticket group size\n",
    "    ticket_group_size = df[ticket_column].value_counts()\n",
    "    df['Ticket Group Size'] = df[ticket_column].apply(lambda x: ticket_group_size[x])\n",
    "\n",
    "    \n",
    "    return df.drop(ticket_column, axis=1)"
   ]
  },
  {
   "cell_type": "code",
   "execution_count": 196,
   "id": "84b2f9dc",
   "metadata": {},
   "outputs": [],
   "source": [
    "def handle_age(df):\n",
    "    df['Age_missing'] = df['Age'].isna().astype(int)\n",
    "    df['Age'].fillna(df['Age'].median(), inplace=True)\n",
    "\n",
    "    return df.drop('Title', axis=1)"
   ]
  },
  {
   "cell_type": "code",
   "execution_count": 209,
   "id": "d547b761",
   "metadata": {},
   "outputs": [],
   "source": [
    "def preprocessing(train, test):\n",
    "    train.set_index('PassengerId', inplace=True)\n",
    "    test.set_index('PassengerId', inplace=True)\n",
    "    train = extract_title_and_family_name(train)\n",
    "    test = extract_title_and_family_name(test)\n",
    "\n",
    "    train = extract_deck(train)\n",
    "    test = extract_deck(test)\n",
    "\n",
    "    train = extract_family_size_and_alone(train)\n",
    "    test = extract_family_size_and_alone(test)\n",
    "\n",
    "    train = ticket_group_size(train)   \n",
    "    test = ticket_group_size(test)\n",
    "\n",
    "    train = handle_age(train)\n",
    "    test = handle_age(test)\n",
    "    \n",
    "    train = pd.get_dummies(train)\n",
    "    test = pd.get_dummies(test)\n",
    "    test['Deck_T'] = 0\n",
    "\n",
    "    \n",
    "\n",
    "    return train, test"
   ]
  },
  {
   "cell_type": "code",
   "execution_count": 210,
   "id": "f29ecf75",
   "metadata": {},
   "outputs": [],
   "source": [
    "train = pd.read_csv(\"Data/train.csv\")\n",
    "test = pd.read_csv(\"Data/test.csv\")\n",
    "train_df, test_df = preprocessing(train, test)"
   ]
  },
  {
   "cell_type": "code",
   "execution_count": 211,
   "id": "0c344c97",
   "metadata": {},
   "outputs": [],
   "source": [
    "train, val = train_test_split(train_df, test_size=0.2, random_state=42)\n",
    "\n",
    "X_train = train.drop('Survived', axis=1)\n",
    "y_train = train['Survived']\n",
    "X_val = val.drop('Survived', axis=1)\n",
    "y_val = val['Survived']\n",
    "X_test = test_df.drop('Survived', axis=1)\n",
    "y_test = test_df['Survived']"
   ]
  },
  {
   "cell_type": "code",
   "execution_count": 212,
   "id": "31bb8b46",
   "metadata": {},
   "outputs": [
    {
     "data": {
      "text/plain": [
       "Index(['Pclass', 'Age', 'SibSp', 'Parch', 'Fare', 'Family Name group size',\n",
       "       'Royal_Male_Title', 'Royal_Female_Title', 'Crew_Title',\n",
       "       'Professional_Title', 'Master_Title', 'Miss_Title', 'Mr_Title',\n",
       "       'Mrs_Title', 'Family Size', 'Alone', 'Ticket Group Size', 'Age_missing',\n",
       "       'Sex_female', 'Sex_male', 'Embarked_C', 'Embarked_Q', 'Embarked_S',\n",
       "       'Deck_A', 'Deck_B', 'Deck_C', 'Deck_D', 'Deck_E', 'Deck_F', 'Deck_G',\n",
       "       'Deck_T', 'Deck_Unknown'],\n",
       "      dtype='object')"
      ]
     },
     "execution_count": 212,
     "metadata": {},
     "output_type": "execute_result"
    }
   ],
   "source": [
    "X_train.columns"
   ]
  },
  {
   "cell_type": "code",
   "execution_count": 240,
   "id": "71eba754",
   "metadata": {},
   "outputs": [
    {
     "name": "stdout",
     "output_type": "stream",
     "text": [
      "Fitting 5 folds for each of 2000 candidates, totalling 10000 fits\n",
      "Best Parameters: {'subsample': 0.8, 'scale_pos_weight': 1.0, 'reg_lambda': 1.0, 'n_estimators': 150, 'min_child_weight': 1, 'max_depth': 4, 'max_delta_step': 4, 'learning_rate': 0.08249999999999999, 'gamma': 0.0, 'colsample_bytree': 0.6, 'colsample_bynode': 0.6, 'colsample_bylevel': 1.0, 'alpha': 0.01}\n",
      "Best CV Score: 0.841327686398109\n"
     ]
    }
   ],
   "source": [
    "from sklearn.model_selection import RandomizedSearchCV\n",
    "import xgboost as xgb\n",
    "import numpy as np\n",
    "\n",
    "# Adjust the parameter grid with reasonable ranges\n",
    "param_dist = {\n",
    "    'n_estimators': np.arange(100, 501, 10),  # 100 to 500, step 50\n",
    "    'max_depth': np.arange(3, 11, 1),  # depths from 3 to 10\n",
    "    'learning_rate': np.linspace(0.01, 0.3, 5),  # 10 values between 0.01 and 0.3\n",
    "    'subsample': np.linspace(0.6, 1.0, 3),  # 5 values between 0.6 and 1.0\n",
    "    'colsample_bytree': np.linspace(0.6, 1.0, 3),  # 5 values between 0.6 and 1.0\n",
    "    'gamma': np.linspace(0, 0.5, 3),  # 5 values between 0 and 0.5\n",
    "    'alpha': np.logspace(-2, 2, 3),  # 5 values between 0.01 and 100 (L1 regularization)\n",
    "    'reg_lambda': np.logspace(-2, 2, 3),  # 5 values between 0.01 and 100 (L2 regularization)\n",
    "    'min_child_weight': np.arange(1, 6, 1),  # values from 1 to 5\n",
    "    'scale_pos_weight': np.linspace(1, 5, 3),  # values between 1 and 5 for handling class imbalance\n",
    "    'colsample_bylevel': np.linspace(0.6, 1.0, 3),  # additional regularization parameter\n",
    "    'colsample_bynode': np.linspace(0.6, 1.0, 3),  # regularization on feature sampling\n",
    "    'max_delta_step': np.arange(0, 6, 2),  # control the maximum delta step\n",
    "}\n",
    "\n",
    "# Initialize the XGBoost classifier\n",
    "xgb_clf = xgb.XGBClassifier(use_label_encoder=False, eval_metric='logloss', random_state=42)\n",
    "\n",
    "# Set up the RandomizedSearchCV with fewer iterations to avoid overflow\n",
    "random_search = RandomizedSearchCV(\n",
    "    xgb_clf, \n",
    "    param_distributions=param_dist, \n",
    "    n_iter=2000,  # reduced number of iterations\n",
    "    scoring='accuracy', \n",
    "    n_jobs=-1, \n",
    "    cv=5,  # 5-fold cross-validation\n",
    "    verbose=2, \n",
    "    random_state=42\n",
    ")\n",
    "\n",
    "# Fit the model\n",
    "random_search.fit(X_train, y_train)\n",
    "\n",
    "# Best parameters and score\n",
    "print(\"Best Parameters:\", random_search.best_params_)\n",
    "print(\"Best CV Score:\", random_search.best_score_)\n"
   ]
  },
  {
   "cell_type": "code",
   "execution_count": 239,
   "id": "4b93e979",
   "metadata": {},
   "outputs": [
    {
     "name": "stdout",
     "output_type": "stream",
     "text": [
      "              precision    recall  f1-score   support\n",
      "\n",
      "           0       0.84      0.88      0.86       105\n",
      "           1       0.81      0.77      0.79        74\n",
      "\n",
      "    accuracy                           0.83       179\n",
      "   macro avg       0.83      0.82      0.83       179\n",
      "weighted avg       0.83      0.83      0.83       179\n",
      "\n"
     ]
    }
   ],
   "source": [
    "# Initialize the XGBoost classifier\n",
    "xgb_clf = xgb.XGBClassifier(use_label_encoder=False, eval_metric='mlogloss', random_state=42, subsample=0.8, scale_pos_weight=1.0, reg_lambda=1, n_estimators=150, min_child_weight=1, max_depth=4, max_delta_step=4, learning_rate=0.0825, gamma=0.0, colsample_bytree=0.6, colsample_bynode=0.6, colsample_bylevel=1, alpha=0.01)\n",
    "\n",
    "# Fit the classifier to the training set\n",
    "xgb_clf.fit(X_train, y_train)\n",
    "y_pred = xgb_clf.predict(X_val)\n",
    "report = classification_report(y_val, y_pred)\n",
    "print(report)"
   ]
  },
  {
   "cell_type": "code",
   "execution_count": null,
   "id": "deb7344c",
   "metadata": {},
   "outputs": [],
   "source": [
    "y_test_pred = xgb_clf.predict(X_test)"
   ]
  }
 ],
 "metadata": {
  "kernelspec": {
   "display_name": "Python 3 (ipykernel)",
   "language": "python",
   "name": "python3"
  },
  "language_info": {
   "codemirror_mode": {
    "name": "ipython",
    "version": 3
   },
   "file_extension": ".py",
   "mimetype": "text/x-python",
   "name": "python",
   "nbconvert_exporter": "python",
   "pygments_lexer": "ipython3",
   "version": "3.12.0"
  }
 },
 "nbformat": 4,
 "nbformat_minor": 5
}
